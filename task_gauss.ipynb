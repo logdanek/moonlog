{
 "cells": [
  {
   "cell_type": "markdown",
   "metadata": {},
   "source": [
    "$$ \\huge Решение \\ СЛУ \\ методом \\ Гаусса $$"
   ]
  },
  {
   "cell_type": "markdown",
   "metadata": {},
   "source": [
    "$ \\large \\textit{Часть 1: непосредственно решение заданной СЛУ} $"
   ]
  },
  {
   "cell_type": "code",
   "execution_count": 14,
   "metadata": {},
   "outputs": [
    {
     "name": "stdout",
     "output_type": "stream",
     "text": [
      "Решение:  [-92.13096017  31.74755329  99.79035331  -0.48094429   7.71606292]\n",
      "Максимальное отклонение компоненты решения: 8.306688670245421e-13\n"
     ]
    }
   ],
   "source": [
    "import numpy\n",
    "from numpy import array\n",
    "from numpy.linalg import norm\n",
    "from numpy.linalg import solve as solve_out_of_the_box\n",
    "\n",
    "def gauss(a, b):\n",
    "    a = a.copy()\n",
    "    b = b.copy()\n",
    "\n",
    "    def forward():\n",
    "        to_zero_rows = 0\n",
    "        for j in range(dim - 1):\n",
    "            to_zero_rows += 1\n",
    "            for i in range(to_zero_rows, dim):\n",
    "                b[i] -= b[j] * (a[i][j] / a[j][j])\n",
    "                a[i] -= a[j] * (a[i][j] / a[j][j])\n",
    "\n",
    "    def backward():\n",
    "        x = numpy.zeros(len(b), dtype=float)\n",
    "        x[dim - 1] = b[dim - 1] / a[dim - 1][dim - 1]\n",
    "        for i in range(1, dim):\n",
    "            numerator = b[dim - i - 1]\n",
    "            for j in range(1, i+1):\n",
    "                numerator -= a[dim - i - 1][dim - j] * x[dim - j]  \n",
    "            x[dim - i - 1] = numerator / a[dim - i - 1][dim - i - 1]\n",
    "        return x\n",
    "\n",
    "    forward()\n",
    "    x = backward()\n",
    "    return x\n",
    "\n",
    "a = array([\n",
    "    [-0.86402971, -0.9549534, -0.66986021, -0.02021153, 2.3],\n",
    "    [-0.99692094, -0.24722367, -0.84956587, -0.47593646, 0.112],\n",
    "    [-0.08430054, -0.05691137, -0.75517649, -0.14147732, 9.1],\n",
    "    [-0.31264443, -0.7171969,  -0.13147741, -0.62145898, 1],\n",
    "    [0.123, 9.1231, 3.12, 1223.1, 1]\n",
    "], dtype=float)\n",
    "\n",
    "b = array([0.19753116, 0.31315642, 0.8847795, 0.9297576, 9.123], dtype=float)\n",
    "dim =numpy.size(b)\n",
    "\n",
    "oob_solution = solve_out_of_the_box(a, b)\n",
    "solution = gauss(a, b)\n",
    "\n",
    "print('Решение: ', solution)\n",
    "print(\"Максимальное отклонение компоненты решения:\", norm(solution-oob_solution, ord=1))"
   ]
  },
  {
   "cell_type": "markdown",
   "metadata": {},
   "source": [
    "$ \\large \\textit{Часть 2: проверка алгоритма на случайных квадратных СЛУ} $"
   ]
  },
  {
   "cell_type": "code",
   "execution_count": 22,
   "metadata": {},
   "outputs": [
    {
     "name": "stdout",
     "output_type": "stream",
     "text": [
      "2.2515322939398175e-13\n",
      "3.5360603334311236e-14\n",
      "6.38378239159465e-16\n",
      "1.8971491044794675e-12\n",
      "3.670674875166924e-15\n",
      "8.881784197001252e-16\n",
      "7.65013052905772e-15\n",
      "1.9872992140790302e-14\n",
      "5.617728504603292e-14\n",
      "6.38378239159465e-15\n"
     ]
    }
   ],
   "source": [
    "from numpy.linalg import norm, det\n",
    "from numpy.linalg import solve as solve_out_of_the_box\n",
    "from numpy.random import uniform\n",
    "\n",
    "N = 5\n",
    "SMALL = 1e-5\n",
    "\n",
    "def test_error(solver_function):\n",
    "    while True:\n",
    "        a = uniform(0.0, 1.0, (N, N))\n",
    "        b = uniform(0.0, 1.0, (N,  ))\n",
    "\n",
    "        d = det(a)\n",
    "        if abs(d) <= SMALL:\n",
    "            continue\n",
    "        if d < 0.0:\n",
    "            a = -a\n",
    "\n",
    "        try:\n",
    "            oob_solution = solve_out_of_the_box(a, b)\n",
    "        except Exception as e:\n",
    "            continue\n",
    "\n",
    "        sb = a @ oob_solution\n",
    "        if norm(sb - b, ord=1) > SMALL:\n",
    "            continue\n",
    "        \n",
    "        break\n",
    "    \n",
    "    tested_solution = solver_function(a, b)\n",
    "    return norm(tested_solution - oob_solution, ord=1)\n",
    "    \n",
    "for i in range(10): print(test_error(gauss))"
   ]
  }
 ],
 "metadata": {
  "kernelspec": {
   "display_name": "Python 3.11.1 64-bit",
   "language": "python",
   "name": "python3"
  },
  "language_info": {
   "codemirror_mode": {
    "name": "ipython",
    "version": 3
   },
   "file_extension": ".py",
   "mimetype": "text/x-python",
   "name": "python",
   "nbconvert_exporter": "python",
   "pygments_lexer": "ipython3",
   "version": "3.11.1"
  },
  "orig_nbformat": 4,
  "vscode": {
   "interpreter": {
    "hash": "aee8b7b246df8f9039afb4144a1f6fd8d2ca17a180786b69acc140d282b71a49"
   }
  }
 },
 "nbformat": 4,
 "nbformat_minor": 2
}
