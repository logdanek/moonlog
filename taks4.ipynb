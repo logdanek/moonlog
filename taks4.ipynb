{
 "cells": [
  {
   "cell_type": "markdown",
   "metadata": {},
   "source": [
    "$$ \\huge Моделирование \\ полета \\ ракеты $$"
   ]
  },
  {
   "cell_type": "markdown",
   "metadata": {},
   "source": [
    "$ \\textbf{Постановка задачи:} $ В начальный момент времени ракета стартует с нулевой начальной скоростью с поверхности Земли под углом $\\alpha_0$ к горизонту. Относительная скорость истечения газов $u$, расход топлива $\\mu$, начальная масса ракеты $M$, масса заправленного топлива $-$ $m_0$. За время $dt$ ракета поворачивается на угол $d \\alpha $. Определить траекторию движения ракеты. "
   ]
  },
  {
   "cell_type": "markdown",
   "metadata": {},
   "source": [
    " Пусть $m$ $-$ мгновенная масса ракеты, тогда $\\\\$\n",
    "$-$ при $m > M - m_0$: ракета летит под действием реактивной тяги $\\\\$\n",
    "$-$ при $m \\leq M - m_0$: ракета начинает двигаться только под действием силы тяжести со скоростью "
   ]
  },
  {
   "cell_type": "markdown",
   "metadata": {},
   "source": [
    "Из непростейших физических соображений можно получить минимум необходимых формул: $\\\\$\n",
    "1) Проекция мнговенной скорости на Ox\n",
    "$$ \\upsilon_x = \\frac{u \\mu \\cos{\\alpha}}{m} \\cdot t $$\n",
    "2) Проекция мнговенной скорости на Oy\n",
    "$$ \\upsilon_y = \\left( \\frac{u \\mu \\sin{\\alpha}}{m} - g \\right) \\cdot t $$"
   ]
  },
  {
   "cell_type": "markdown",
   "metadata": {},
   "source": [
    "Начнем с простого $-$ обозначим класс ракеты"
   ]
  },
  {
   "cell_type": "code",
   "execution_count": 66,
   "metadata": {},
   "outputs": [],
   "source": [
    "import math\n",
    "\n",
    "MODEL_G = 9.81 # ускорение свободного падения\n",
    "MODEL_DT = 0.01\n",
    "MODEL_D_ALPHA = 0.002\n",
    "\n",
    "class Rocket:\n",
    "    def __init__(self, x, y, u, alpha_0, M, m_0, mu):\n",
    "        \"\"\"\n",
    "        Параметры:\n",
    "        ----------\n",
    "        x: float\n",
    "            горизонтальная координата\n",
    "        y: float\n",
    "            вертикальная координата\n",
    "        u: float\n",
    "            скорость относительного истечения газов из сопла\n",
    "        alpha_0: float\n",
    "            начальный угол ракеты\n",
    "        M: float\n",
    "            масса всей ракеты\n",
    "        m_0: float\n",
    "            масса топлива\n",
    "        mu: float\n",
    "            расход топлива \n",
    "        \"\"\"\n",
    "\n",
    "        self.x = x\n",
    "        self.y = y\n",
    "        self.u = u\n",
    "        self.alpha_0 = alpha_0\n",
    "        self.M = M\n",
    "        self.m_0 = m_0\n",
    "        self.mu = mu\n",
    "        \n",
    "        self.vx = 0\n",
    "        self.vy = 0\n",
    "        self.trajectory_x = []\n",
    "        self.trajectory_y = []\n",
    "        self.m = M\n",
    "        self.alpha = alpha_0\n",
    "    \n",
    "    def fuel_burn(self):\n",
    "        \"\"\"\n",
    "        Поиск мгновенной массы (сжигание топлива)\n",
    "        \"\"\"\n",
    "        self.m -= self.mu * MODEL_DT\n",
    "    \n",
    "    def rotate(self):\n",
    "        \"\"\"\n",
    "        Поворот ракеты\n",
    "        \"\"\"\n",
    "        self.alpha -= MODEL_D_ALPHA\n",
    "\n",
    "    def advance(self):\n",
    "        \"\"\"\n",
    "        Продвижение ракеты        \n",
    "        \"\"\"\n",
    "        self.trajectory_x.append(self.x)\n",
    "        self.trajectory_y.append(self.y)\n",
    "        if self.m > self.M - self.m_0 and self.alpha > 0:\n",
    "            self.fuel_burn()\n",
    "            self.rotate()\n",
    "            self.vx += self.u * self.mu * math.cos(self.alpha) / self.m * MODEL_DT \n",
    "            self.vy += (self.u * self.mu * math.sin(self.alpha) / self.m - MODEL_G) * MODEL_DT\n",
    "        else:\n",
    "            self.vy -= MODEL_G * MODEL_DT\n",
    "\n",
    "        self.x += self.vx * MODEL_DT\n",
    "        self.y += self.vy * MODEL_DT\n"
   ]
  },
  {
   "cell_type": "markdown",
   "metadata": {},
   "source": [
    "После объявления класса и запрограммированной траектории её необходимо изобразить!"
   ]
  },
  {
   "cell_type": "code",
   "execution_count": 71,
   "metadata": {},
   "outputs": [],
   "source": [
    "import numpy as np\n",
    "\n",
    "X = 0\n",
    "Y = 0\n",
    "U = 5000\n",
    "ALPHA_0 = math.pi/6\n",
    "M = 15000\n",
    "M_0 = 10000\n",
    "MU = 350\n",
    "\n",
    "r = Rocket(X, Y, U, ALPHA_0, M, M_0, MU)\n",
    "\n",
    "for t in np.arange(0, 20, MODEL_DT):\n",
    "    if r.y >= 0:\n",
    "            r.advance()"
   ]
  },
  {
   "cell_type": "code",
   "execution_count": 72,
   "metadata": {},
   "outputs": [
    {
     "data": {
      "text/plain": [
       "[<matplotlib.lines.Line2D at 0x120de86a0>]"
      ]
     },
     "execution_count": 72,
     "metadata": {},
     "output_type": "execute_result"
    },
    {
     "data": {
      "image/png": "[encoded data removed]",
      "text/plain": [
       "<Figure size 640x480 with 1 Axes>"
      ]
     },
     "metadata": {},
     "output_type": "display_data"
    }
   ],
   "source": [
    "%matplotlib inline\n",
    "from matplotlib import pyplot as pp\n",
    "\n",
    "pp.plot(r.trajectory_x, r.trajectory_y) "
   ]
  },
  {
   "cell_type": "code",
   "execution_count": null,
   "metadata": {},
   "outputs": [],
   "source": []
  }
 ],
 "metadata": {
  "kernelspec": {
   "display_name": "Python 3.10.7 64-bit",
   "language": "python",
   "name": "python3"
  },
  "language_info": {
   "codemirror_mode": {
    "name": "ipython",
    "version": 3
   },
   "file_extension": ".py",
   "mimetype": "text/x-python",
   "name": "python",
   "nbconvert_exporter": "python",
   "pygments_lexer": "ipython3",
   "version": "3.10.7"
  },
  "orig_nbformat": 4,
  "vscode": {
   "interpreter": {
    "hash": "aee8b7b246df8f9039afb4144a1f6fd8d2ca17a180786b69acc140d282b71a49"
   }
  }
 },
 "nbformat": 4,
 "nbformat_minor": 2
}
