{
 "cells": [
  {
   "cell_type": "markdown",
   "metadata": {},
   "source": [
    "$$ \\Large Численное \\ интегрирование \\ методом \\ Монте-Карло $$"
   ]
  },
  {
   "cell_type": "markdown",
   "metadata": {},
   "source": [
    "$\\textbf{Задача}:$ найти определенный интеграл\n",
    "$$ \\int_a^b \\frac{dx}{x \\sqrt{x^2 + x + 1}} $$"
   ]
  },
  {
   "cell_type": "markdown",
   "metadata": {},
   "source": [
    "Аналитическое решение выглядит страшным образом, получая в итоге:\n",
    "$$ \\int_a^b \\frac{dx}{x \\sqrt{x^2 + x + 1}} = - \\ln{\\left| \\frac{1}{2} + \\frac{1}{x} + \\frac{\\sqrt{x^2 + x + 1}}{x} \\right|} \\bigg|_a^b $$"
   ]
  },
  {
   "cell_type": "markdown",
   "metadata": {},
   "source": [
    "Поэтому напишем программу алгоритма Монте-Карло и не будем париться!"
   ]
  },
  {
   "cell_type": "code",
   "execution_count": 10,
   "metadata": {},
   "outputs": [
    {
     "name": "stdout",
     "output_type": "stream",
     "text": [
      "Для 100 точек интеграл равен 0.6592634323877433\n",
      "Для 1000 точек интеграл равен 0.6900970284478306\n",
      "Для 100000 точек интеграл равен 0.6895717290693971\n",
      "Для 10000000 точек интеграл равен 0.6932198812045081\n",
      "Для 100000000 точек интеграл равен 0.6921535131347014\n",
      "Настоящее значение интеграла: (0.6922232594483761, 7.201283495734721e-11)\n"
     ]
    }
   ],
   "source": [
    "import random\n",
    "import scipy\n",
    "import numpy\n",
    "\n",
    "N_list = [10**2, 10**3, 10**5, 10**7, 10**8]  # Посмотрим, как точность зависит от количества точек\n",
    "a = 1\n",
    "b = 13\n",
    "\n",
    "def function(x):  # Сама функция\n",
    "    return 1 / (x * numpy.sqrt(x ** 2 + x + 1))\n",
    "\n",
    "integral = [0] * len(N_list)  # Интегралы, соответствующие количеству точек\n",
    "for i in range(len(N_list)):\n",
    "    for j in range(N_list[i]):\n",
    "        rand_point = random.uniform(a, b)\n",
    "        integral[i] += function(rand_point)\n",
    "\n",
    "for i in range(len(N_list)):\n",
    "    integral[i] = integral[i] * (b - a) / N_list[i] \n",
    "    print(f'Для {N_list[i]} точек интеграл равен {integral[i]}')\n",
    "\n",
    "print('Настоящее значение интеграла: ' + str(scipy.integrate.quad(function, a, b)))\n",
    "\n"
   ]
  },
  {
   "cell_type": "markdown",
   "metadata": {},
   "source": [
    "$ \\textbf{Вывод:} $ метод Монте-Карло хорош для большого числа точек!"
   ]
  }
 ],
 "metadata": {
  "kernelspec": {
   "display_name": "Python 3.11.1 64-bit",
   "language": "python",
   "name": "python3"
  },
  "language_info": {
   "codemirror_mode": {
    "name": "ipython",
    "version": 3
   },
   "file_extension": ".py",
   "mimetype": "text/x-python",
   "name": "python",
   "nbconvert_exporter": "python",
   "pygments_lexer": "ipython3",
   "version": "3.11.1"
  },
  "orig_nbformat": 4,
  "vscode": {
   "interpreter": {
    "hash": "aee8b7b246df8f9039afb4144a1f6fd8d2ca17a180786b69acc140d282b71a49"
   }
  }
 },
 "nbformat": 4,
 "nbformat_minor": 2
}
