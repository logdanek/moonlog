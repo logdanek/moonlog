{
 "cells": [
  {
   "cell_type": "markdown",
   "id": "afaed945",
   "metadata": {},
   "source": [
    "$ \\Large \\textbf{Разложение гиперболического синуса в ряд тейлора} $"
   ]
  },
  {
   "cell_type": "markdown",
   "id": "f0b3e486",
   "metadata": {},
   "source": [
    "Для небольших x шинус приближенно равен"
   ]
  },
  {
   "cell_type": "markdown",
   "id": "a225a967-8cc7-498f-b179-495184f6458c",
   "metadata": {},
   "source": [
    "$$ sh(x) = \\frac{1}{1!}x^1 + \\frac{1}{3!}x^3 + \\frac{1}{5!}x^5 + ... + R(x) = \\sum_{n = 0}^{\\inf}\\frac{1}{(2n+1)!}x^{2n+1} + R(x)$$ \n",
    "\n",
    "причем $ R(x) \\xrightarrow[n \\rightarrow \\infty]{} 0 $"
   ]
  },
  {
   "cell_type": "markdown",
   "id": "5f2c7db7",
   "metadata": {},
   "source": [
    "Это частичная сумма ряда Тейлора:\n",
    "$$ f(x) = f(a)+\\sum_{k=1}^\\infty {f^{(k)} (a) \\over k!} (x - a)^k. $$"
   ]
  },
  {
   "cell_type": "code",
   "execution_count": 2,
   "id": "728ee55e",
   "metadata": {},
   "outputs": [
    {
     "name": "stdout",
     "output_type": "stream",
     "text": [
      "Help on built-in function sinh in module math:\n",
      "\n",
      "sinh(x, /)\n",
      "    Return the hyperbolic sine of x.\n",
      "\n",
      "Help on function my_sh in module __main__:\n",
      "\n",
      "my_sh(arg)\n",
      "    Функция, считающая гиперболический синус в\n",
      "    окрестности нуля\n",
      "\n",
      "0.3045202934471426\n",
      "0.30452029344714254\n"
     ]
    }
   ],
   "source": [
    "import math\n",
    "\n",
    "ITERATIONS = 15\n",
    "\n",
    "\n",
    "def my_sh(arg):\n",
    "    \"\"\"\n",
    "    Функция, считающая гиперболический синус в\n",
    "    окрестности нуля\n",
    "    \"\"\"\n",
    "    x_power = arg\n",
    "    multiplier = 1\n",
    "    particial_sum = arg\n",
    "    for i in range(1, ITERATIONS):\n",
    "        x_power *= arg ** 2\n",
    "        multiplier = multiplier / (2 * i) / (2 * i + 1)\n",
    "        particial_sum += x_power * multiplier\n",
    "\n",
    "    return particial_sum\n",
    "\n",
    "\n",
    "help(math.sinh)\n",
    "help(my_sh)\n",
    "\n",
    "print(math.sinh(0.3))\n",
    "print(my_sh(0.3))\n"
   ]
  },
  {
   "cell_type": "markdown",
   "id": "801fd2d7",
   "metadata": {},
   "source": [
    "Как видно, разложение функции в ряд Тейлора $ \\text{--} $ очень мощная штука, точность подсчитывания шинуса составляет $ 10^{-15} $ всего для 15 членов! "
   ]
  },
  {
   "cell_type": "markdown",
   "id": "9dcae926",
   "metadata": {},
   "source": [
    "Проведем проверку на $ \\text{\\textbf{комплексность}} $ нашего шинуса"
   ]
  },
  {
   "cell_type": "code",
   "execution_count": 3,
   "id": "edb6e158",
   "metadata": {},
   "outputs": [
    {
     "name": "stdout",
     "output_type": "stream",
     "text": [
      "\"Угол\", на котором шинус достигает пяти: (2.3124383412727525+0j)\n",
      "Достигает ли пяти фейк-шинус? (5+0j)\n",
      "А библиотечный? (4.999999999999999+0j)\n"
     ]
    }
   ],
   "source": [
    "import cmath\n",
    "\n",
    "complex_angle = cmath.asinh(5)\n",
    "print('\"Угол\", на котором шинус достигает пяти:', complex_angle)\n",
    "\n",
    "print(\"Достигает ли пяти фейк-шинус?\", my_sh(complex_angle))\n",
    "print(\"А библиотечный?\", cmath.sinh(complex_angle))\n"
   ]
  },
  {
   "cell_type": "markdown",
   "id": "7026ebe4",
   "metadata": {},
   "source": [
    "Следующая проверка $ \\text{-- \\textbf{графическая}} $ "
   ]
  },
  {
   "cell_type": "code",
   "execution_count": 4,
   "id": "723dd9b7",
   "metadata": {},
   "outputs": [
    {
     "name": "stdout",
     "output_type": "stream",
     "text": [
      "<function my_sh at 0x10c7d5cf0> <numpy.vectorize object at 0x11f54a4a0>\n"
     ]
    },
    {
     "data": {
      "application/pdf": "[encoded data removed]",
      "image/svg+xml": "<?xml version=\"1.0\" encoding=\"utf-8\" standalone=\"no\"?>\n<!DOCTYPE svg PUBLIC \"-//W3C//DTD SVG 1.1//EN\"\n  \"http://www.w3.org/Graphics/SVG/1.1/DTD/svg11.dtd\">\n<svg xmlns:xlink=\"http://www.w3.org/1999/xlink\" width=\"402.802812pt\" height=\"307.788562pt\" viewBox=\"0 0 402.802812 307.788562\" xmlns=\"http://www.w3.org/2000/svg\" version=\"1.1\">\n <metadata>\n  <rdf:RDF xmlns:dc=\"http://purl.org/dc/elements/1.1/\" xmlns:cc=\"http://creativecommons.org/ns#\" xmlns:rdf=\"http://www.w3.org/1999/02/22-rdf-syntax-ns#\">\n   <cc:Work>\n    <dc:type rdf:resource=\"http://purl.org/dc/dcmitype/StillImage\"/>\n    <dc:date>2022-10-17T09:31:40.032267</dc:date>\n    <dc:format>image/svg+xml</dc:format>\n    <dc:creator>\n     <cc:Agent>\n      <dc:title>Matplotlib v3.6.0, https://matplotlib.org/</dc:title>\n     </cc:Agent>\n    </dc:creator>\n   </cc:Work>\n  </rdf:RDF>\n </metadata>\n <defs>\n  <style type=\"text/css\">*{stroke-linejoin: round; stroke-linecap: butt}</style>\n </defs>\n <g id=\"figure_1\">\n  <g id=\"patch_1\">\n   <path d=\"M 0 307.788562 \nL 402.802812 307.788562 \nL 402.802812 0 \nL 0 0 \nz\n\" style=\"fill: #ffffff\"/>\n  </g>\n  <g id=\"axes_1\">\n   <g id=\"patch_2\">\n    <path d=\"M 38.482813 283.910437 \nL 395.602813 283.910437 \nL 395.602813 17.798437 \nL 38.482813 17.798437 \nz\n\" style=\"fill: #ffffff\"/>\n   </g>\n   <g id=\"matplotlib.axis_1\">\n    <g id=\"xtick_1\">\n     <g id=\"line2d_1\">\n      <defs>\n       <path id=\"m9f353c64b9\" d=\"M 0 0 \nL 0 3.5 \n\" style=\"stroke: #000000; stroke-width: 0.8\"/>\n      </defs>\n      <g>\n       <use xlink:href=\"#m9f353c64b9\" x=\"69.474801\" y=\"283.910437\" style=\"stroke: #000000; stroke-width: 0.8\"/>\n      </g>\n     </g>\n     <g id=\"text_1\">\n      <!-- −30 -->\n      <g transform=\"translate(58.922457 298.508875) scale(0.1 -0.1)\">\n       <defs>\n        <path id=\"DejaVuSans-2212\" d=\"M 678 2272 \nL 4684 2272 \nL 4684 1741 \nL 678 1741 \nL 678 2272 \nz\n\" transform=\"scale(0.015625)\"/>\n        <path id=\"DejaVuSans-33\" d=\"M 2597 2516 \nQ 3050 2419 3304 2112 \nQ 3559 1806 3559 1356 \nQ 3559 666 3084 287 \nQ 2609 -91 1734 -91 \nQ 1441 -91 1130 -33 \nQ 819 25 488 141 \nL 488 750 \nQ 750 597 1062 519 \nQ 1375 441 1716 441 \nQ 2309 441 2620 675 \nQ 2931 909 2931 1356 \nQ 2931 1769 2642 2001 \nQ 2353 2234 1838 2234 \nL 1294 2234 \nL 1294 2753 \nL 1863 2753 \nQ 2328 2753 2575 2939 \nQ 2822 3125 2822 3475 \nQ 2822 3834 2567 4026 \nQ 2313 4219 1838 4219 \nQ 1578 4219 1281 4162 \nQ 984 4106 628 3988 \nL 628 4550 \nQ 988 4650 1302 4700 \nQ 1616 4750 1894 4750 \nQ 2613 4750 3031 4423 \nQ 3450 4097 3450 3541 \nQ 3450 3153 3228 2886 \nQ 3006 2619 2597 2516 \nz\n\" transform=\"scale(0.015625)\"/>\n        <path id=\"DejaVuSans-30\" d=\"M 2034 4250 \nQ 1547 4250 1301 3770 \nQ 1056 3291 1056 2328 \nQ 1056 1369 1301 889 \nQ 1547 409 2034 409 \nQ 2525 409 2770 889 \nQ 3016 1369 3016 2328 \nQ 3016 3291 2770 3770 \nQ 2525 4250 2034 4250 \nz\nM 2034 4750 \nQ 2819 4750 3233 4129 \nQ 3647 3509 3647 2328 \nQ 3647 1150 3233 529 \nQ 2819 -91 2034 -91 \nQ 1250 -91 836 529 \nQ 422 1150 422 2328 \nQ 422 3509 836 4129 \nQ 1250 4750 2034 4750 \nz\n\" transform=\"scale(0.015625)\"/>\n       </defs>\n       <use xlink:href=\"#DejaVuSans-2212\"/>\n       <use xlink:href=\"#DejaVuSans-33\" x=\"83.789062\"/>\n       <use xlink:href=\"#DejaVuSans-30\" x=\"147.412109\"/>\n      </g>\n     </g>\n    </g>\n    <g id=\"xtick_2\">\n     <g id=\"line2d_2\">\n      <g>\n       <use xlink:href=\"#m9f353c64b9\" x=\"118.672338\" y=\"283.910437\" style=\"stroke: #000000; stroke-width: 0.8\"/>\n      </g>\n     </g>\n     <g id=\"text_2\">\n      <!-- −20 -->\n      <g transform=\"translate(108.119994 298.508875) scale(0.1 -0.1)\">\n       <defs>\n        <path id=\"DejaVuSans-32\" d=\"M 1228 531 \nL 3431 531 \nL 3431 0 \nL 469 0 \nL 469 531 \nQ 828 903 1448 1529 \nQ 2069 2156 2228 2338 \nQ 2531 2678 2651 2914 \nQ 2772 3150 2772 3378 \nQ 2772 3750 2511 3984 \nQ 2250 4219 1831 4219 \nQ 1534 4219 1204 4116 \nQ 875 4013 500 3803 \nL 500 4441 \nQ 881 4594 1212 4672 \nQ 1544 4750 1819 4750 \nQ 2544 4750 2975 4387 \nQ 3406 4025 3406 3419 \nQ 3406 3131 3298 2873 \nQ 3191 2616 2906 2266 \nQ 2828 2175 2409 1742 \nQ 1991 1309 1228 531 \nz\n\" transform=\"scale(0.015625)\"/>\n       </defs>\n       <use xlink:href=\"#DejaVuSans-2212\"/>\n       <use xlink:href=\"#DejaVuSans-32\" x=\"83.789062\"/>\n       <use xlink:href=\"#DejaVuSans-30\" x=\"147.412109\"/>\n      </g>\n     </g>\n    </g>\n    <g id=\"xtick_3\">\n     <g id=\"line2d_3\">\n      <g>\n       <use xlink:href=\"#m9f353c64b9\" x=\"167.869874\" y=\"283.910437\" style=\"stroke: #000000; stroke-width: 0.8\"/>\n      </g>\n     </g>\n     <g id=\"text_3\">\n      <!-- −10 -->\n      <g transform=\"translate(157.317531 298.508875) scale(0.1 -0.1)\">\n       <defs>\n        <path id=\"DejaVuSans-31\" d=\"M 794 531 \nL 1825 531 \nL 1825 4091 \nL 703 3866 \nL 703 4441 \nL 1819 4666 \nL 2450 4666 \nL 2450 531 \nL 3481 531 \nL 3481 0 \nL 794 0 \nL 794 531 \nz\n\" transform=\"scale(0.015625)\"/>\n       </defs>\n       <use xlink:href=\"#DejaVuSans-2212\"/>\n       <use xlink:href=\"#DejaVuSans-31\" x=\"83.789062\"/>\n       <use xlink:href=\"#DejaVuSans-30\" x=\"147.412109\"/>\n      </g>\n     </g>\n    </g>\n    <g id=\"xtick_4\">\n     <g id=\"line2d_4\">\n      <g>\n       <use xlink:href=\"#m9f353c64b9\" x=\"217.067411\" y=\"283.910437\" style=\"stroke: #000000; stroke-width: 0.8\"/>\n      </g>\n     </g>\n     <g id=\"text_4\">\n      <!-- 0 -->\n      <g transform=\"translate(213.886161 298.508875) scale(0.1 -0.1)\">\n       <use xlink:href=\"#DejaVuSans-30\"/>\n      </g>\n     </g>\n    </g>\n    <g id=\"xtick_5\">\n     <g id=\"line2d_5\">\n      <g>\n       <use xlink:href=\"#m9f353c64b9\" x=\"266.264948\" y=\"283.910437\" style=\"stroke: #000000; stroke-width: 0.8\"/>\n      </g>\n     </g>\n     <g id=\"text_5\">\n      <!-- 10 -->\n      <g transform=\"translate(259.902448 298.508875) scale(0.1 -0.1)\">\n       <use xlink:href=\"#DejaVuSans-31\"/>\n       <use xlink:href=\"#DejaVuSans-30\" x=\"63.623047\"/>\n      </g>\n     </g>\n    </g>\n    <g id=\"xtick_6\">\n     <g id=\"line2d_6\">\n      <g>\n       <use xlink:href=\"#m9f353c64b9\" x=\"315.462485\" y=\"283.910437\" style=\"stroke: #000000; stroke-width: 0.8\"/>\n      </g>\n     </g>\n     <g id=\"text_6\">\n      <!-- 20 -->\n      <g transform=\"translate(309.099985 298.508875) scale(0.1 -0.1)\">\n       <use xlink:href=\"#DejaVuSans-32\"/>\n       <use xlink:href=\"#DejaVuSans-30\" x=\"63.623047\"/>\n      </g>\n     </g>\n    </g>\n    <g id=\"xtick_7\">\n     <g id=\"line2d_7\">\n      <g>\n       <use xlink:href=\"#m9f353c64b9\" x=\"364.660022\" y=\"283.910437\" style=\"stroke: #000000; stroke-width: 0.8\"/>\n      </g>\n     </g>\n     <g id=\"text_7\">\n      <!-- 30 -->\n      <g transform=\"translate(358.297522 298.508875) scale(0.1 -0.1)\">\n       <use xlink:href=\"#DejaVuSans-33\"/>\n       <use xlink:href=\"#DejaVuSans-30\" x=\"63.623047\"/>\n      </g>\n     </g>\n    </g>\n   </g>\n   <g id=\"matplotlib.axis_2\">\n    <g id=\"ytick_1\">\n     <g id=\"line2d_8\">\n      <defs>\n       <path id=\"m06732a9154\" d=\"M 0 0 \nL -3.5 0 \n\" style=\"stroke: #000000; stroke-width: 0.8\"/>\n      </defs>\n      <g>\n       <use xlink:href=\"#m06732a9154\" x=\"38.482813\" y=\"263.52095\" style=\"stroke: #000000; stroke-width: 0.8\"/>\n      </g>\n     </g>\n     <g id=\"text_8\">\n      <!-- −1.0 -->\n      <g transform=\"translate(7.2 267.320169) scale(0.1 -0.1)\">\n       <defs>\n        <path id=\"DejaVuSans-2e\" d=\"M 684 794 \nL 1344 794 \nL 1344 0 \nL 684 0 \nL 684 794 \nz\n\" transform=\"scale(0.015625)\"/>\n       </defs>\n       <use xlink:href=\"#DejaVuSans-2212\"/>\n       <use xlink:href=\"#DejaVuSans-31\" x=\"83.789062\"/>\n       <use xlink:href=\"#DejaVuSans-2e\" x=\"147.412109\"/>\n       <use xlink:href=\"#DejaVuSans-30\" x=\"179.199219\"/>\n      </g>\n     </g>\n    </g>\n    <g id=\"ytick_2\">\n     <g id=\"line2d_9\">\n      <g>\n       <use xlink:href=\"#m06732a9154\" x=\"38.482813\" y=\"206.885296\" style=\"stroke: #000000; stroke-width: 0.8\"/>\n      </g>\n     </g>\n     <g id=\"text_9\">\n      <!-- −0.5 -->\n      <g transform=\"translate(7.2 210.684515) scale(0.1 -0.1)\">\n       <defs>\n        <path id=\"DejaVuSans-35\" d=\"M 691 4666 \nL 3169 4666 \nL 3169 4134 \nL 1269 4134 \nL 1269 2991 \nQ 1406 3038 1543 3061 \nQ 1681 3084 1819 3084 \nQ 2600 3084 3056 2656 \nQ 3513 2228 3513 1497 \nQ 3513 744 3044 326 \nQ 2575 -91 1722 -91 \nQ 1428 -91 1123 -41 \nQ 819 9 494 109 \nL 494 744 \nQ 775 591 1075 516 \nQ 1375 441 1709 441 \nQ 2250 441 2565 725 \nQ 2881 1009 2881 1497 \nQ 2881 1984 2565 2268 \nQ 2250 2553 1709 2553 \nQ 1456 2553 1204 2497 \nQ 953 2441 691 2322 \nL 691 4666 \nz\n\" transform=\"scale(0.015625)\"/>\n       </defs>\n       <use xlink:href=\"#DejaVuSans-2212\"/>\n       <use xlink:href=\"#DejaVuSans-30\" x=\"83.789062\"/>\n       <use xlink:href=\"#DejaVuSans-2e\" x=\"147.412109\"/>\n       <use xlink:href=\"#DejaVuSans-35\" x=\"179.199219\"/>\n      </g>\n     </g>\n    </g>\n    <g id=\"ytick_3\">\n     <g id=\"line2d_10\">\n      <g>\n       <use xlink:href=\"#m06732a9154\" x=\"38.482813\" y=\"150.249643\" style=\"stroke: #000000; stroke-width: 0.8\"/>\n      </g>\n     </g>\n     <g id=\"text_10\">\n      <!-- 0.0 -->\n      <g transform=\"translate(15.579688 154.048861) scale(0.1 -0.1)\">\n       <use xlink:href=\"#DejaVuSans-30\"/>\n       <use xlink:href=\"#DejaVuSans-2e\" x=\"63.623047\"/>\n       <use xlink:href=\"#DejaVuSans-30\" x=\"95.410156\"/>\n      </g>\n     </g>\n    </g>\n    <g id=\"ytick_4\">\n     <g id=\"line2d_11\">\n      <g>\n       <use xlink:href=\"#m06732a9154\" x=\"38.482813\" y=\"93.613989\" style=\"stroke: #000000; stroke-width: 0.8\"/>\n      </g>\n     </g>\n     <g id=\"text_11\">\n      <!-- 0.5 -->\n      <g transform=\"translate(15.579688 97.413207) scale(0.1 -0.1)\">\n       <use xlink:href=\"#DejaVuSans-30\"/>\n       <use xlink:href=\"#DejaVuSans-2e\" x=\"63.623047\"/>\n       <use xlink:href=\"#DejaVuSans-35\" x=\"95.410156\"/>\n      </g>\n     </g>\n    </g>\n    <g id=\"ytick_5\">\n     <g id=\"line2d_12\">\n      <g>\n       <use xlink:href=\"#m06732a9154\" x=\"38.482813\" y=\"36.978335\" style=\"stroke: #000000; stroke-width: 0.8\"/>\n      </g>\n     </g>\n     <g id=\"text_12\">\n      <!-- 1.0 -->\n      <g transform=\"translate(15.579688 40.777553) scale(0.1 -0.1)\">\n       <use xlink:href=\"#DejaVuSans-31\"/>\n       <use xlink:href=\"#DejaVuSans-2e\" x=\"63.623047\"/>\n       <use xlink:href=\"#DejaVuSans-30\" x=\"95.410156\"/>\n      </g>\n     </g>\n    </g>\n    <g id=\"text_13\">\n     <!-- 1e14 -->\n     <g transform=\"translate(38.482813 14.798437) scale(0.1 -0.1)\">\n      <defs>\n       <path id=\"DejaVuSans-65\" d=\"M 3597 1894 \nL 3597 1613 \nL 953 1613 \nQ 991 1019 1311 708 \nQ 1631 397 2203 397 \nQ 2534 397 2845 478 \nQ 3156 559 3463 722 \nL 3463 178 \nQ 3153 47 2828 -22 \nQ 2503 -91 2169 -91 \nQ 1331 -91 842 396 \nQ 353 884 353 1716 \nQ 353 2575 817 3079 \nQ 1281 3584 2069 3584 \nQ 2775 3584 3186 3129 \nQ 3597 2675 3597 1894 \nz\nM 3022 2063 \nQ 3016 2534 2758 2815 \nQ 2500 3097 2075 3097 \nQ 1594 3097 1305 2825 \nQ 1016 2553 972 2059 \nL 3022 2063 \nz\n\" transform=\"scale(0.015625)\"/>\n       <path id=\"DejaVuSans-34\" d=\"M 2419 4116 \nL 825 1625 \nL 2419 1625 \nL 2419 4116 \nz\nM 2253 4666 \nL 3047 4666 \nL 3047 1625 \nL 3713 1625 \nL 3713 1100 \nL 3047 1100 \nL 3047 0 \nL 2419 0 \nL 2419 1100 \nL 313 1100 \nL 313 1709 \nL 2253 4666 \nz\n\" transform=\"scale(0.015625)\"/>\n      </defs>\n      <use xlink:href=\"#DejaVuSans-31\"/>\n      <use xlink:href=\"#DejaVuSans-65\" x=\"63.623047\"/>\n      <use xlink:href=\"#DejaVuSans-31\" x=\"125.146484\"/>\n      <use xlink:href=\"#DejaVuSans-34\" x=\"188.769531\"/>\n     </g>\n    </g>\n   </g>\n   <g id=\"line2d_13\">\n    <path d=\"M 54.71554 271.814437 \nL 55.797886 247.807676 \nL 56.880231 228.541798 \nL 57.962577 213.080569 \nL 59.044923 200.672642 \nL 60.127269 190.715048 \nL 61.209615 182.723891 \nL 62.29196 176.310837 \nL 63.374306 171.164241 \nL 64.456652 167.034001 \nL 65.588195 163.585379 \nL 66.719739 160.845334 \nL 67.851282 158.668275 \nL 69.032023 156.871973 \nL 70.261961 155.407119 \nL 71.541097 154.226323 \nL 72.918628 153.255153 \nL 74.443752 152.454025 \nL 76.165666 151.803045 \nL 78.231962 151.2703 \nL 80.741037 150.862543 \nL 84.037272 150.563269 \nL 88.85863 150.36735 \nL 97.615792 150.269493 \nL 130.184561 150.249669 \nL 345.030205 150.137676 \nL 350.638724 149.899548 \nL 354.082551 149.544639 \nL 356.591626 149.075607 \nL 358.608725 148.480584 \nL 360.281441 147.764208 \nL 361.757367 146.894657 \nL 363.085701 145.854731 \nL 364.315639 144.606464 \nL 365.49638 143.075757 \nL 366.627923 141.22059 \nL 367.710269 138.998751 \nL 368.743417 136.369664 \nL 369.776566 133.126217 \nL 370.809714 129.124849 \nL 371.842862 124.188448 \nL 372.87601 118.098518 \nL 373.909159 110.585506 \nL 374.942307 101.316868 \nL 375.975455 89.882352 \nL 377.008603 75.775841 \nL 378.041752 58.372947 \nL 379.0749 36.903379 \nL 379.370085 29.894438 \nL 379.370085 29.894438 \n\" clip-path=\"url(#p6d08433d80)\" style=\"fill: none; stroke: #800080; stroke-linecap: square\"/>\n   </g>\n   <g id=\"line2d_14\">\n    <path d=\"M 54.71554 187.643196 \nL 55.945478 180.825017 \nL 57.175417 175.222177 \nL 58.405355 170.623236 \nL 59.635293 166.852597 \nL 60.865232 163.764598 \nL 62.144368 161.147716 \nL 63.423504 159.02681 \nL 64.751837 157.250991 \nL 66.129368 155.780184 \nL 67.556097 154.575239 \nL 69.081221 153.570373 \nL 70.753937 152.729595 \nL 72.672641 152.019321 \nL 74.88653 151.444534 \nL 77.543197 150.991955 \nL 80.937827 150.650683 \nL 85.66079 150.417633 \nL 93.335606 150.289218 \nL 113.260609 150.250442 \nL 347.736069 150.10321 \nL 353.295391 149.841333 \nL 356.936008 149.45985 \nL 359.691071 148.956736 \nL 361.90496 148.336186 \nL 363.823664 147.569896 \nL 365.49638 146.663364 \nL 367.021503 145.580498 \nL 368.399035 144.332777 \nL 369.727368 142.824772 \nL 371.006504 141.021958 \nL 372.236442 138.889994 \nL 373.417183 136.395969 \nL 374.597924 133.371917 \nL 375.778665 129.709059 \nL 376.959406 125.277108 \nL 378.140147 119.920179 \nL 379.320888 113.451955 \nL 379.370085 113.155186 \nL 379.370085 113.155186 \n\" clip-path=\"url(#p6d08433d80)\" style=\"fill: none; stroke: #ff0000; stroke-linecap: square\"/>\n   </g>\n   <g id=\"patch_3\">\n    <path d=\"M 38.482813 283.910437 \nL 38.482813 17.798438 \n\" style=\"fill: none; stroke: #000000; stroke-width: 0.8; stroke-linejoin: miter; stroke-linecap: square\"/>\n   </g>\n   <g id=\"patch_4\">\n    <path d=\"M 395.602813 283.910437 \nL 395.602813 17.798438 \n\" style=\"fill: none; stroke: #000000; stroke-width: 0.8; stroke-linejoin: miter; stroke-linecap: square\"/>\n   </g>\n   <g id=\"patch_5\">\n    <path d=\"M 38.482812 283.910437 \nL 395.602813 283.910437 \n\" style=\"fill: none; stroke: #000000; stroke-width: 0.8; stroke-linejoin: miter; stroke-linecap: square\"/>\n   </g>\n   <g id=\"patch_6\">\n    <path d=\"M 38.482812 17.798437 \nL 395.602813 17.798437 \n\" style=\"fill: none; stroke: #000000; stroke-width: 0.8; stroke-linejoin: miter; stroke-linecap: square\"/>\n   </g>\n   <g id=\"legend_1\">\n    <g id=\"patch_7\">\n     <path d=\"M 45.482813 55.154687 \nL 167.035938 55.154687 \nQ 169.035938 55.154687 169.035938 53.154687 \nL 169.035938 24.798437 \nQ 169.035938 22.798437 167.035938 22.798437 \nL 45.482813 22.798437 \nQ 43.482813 22.798437 43.482813 24.798437 \nL 43.482813 53.154687 \nQ 43.482813 55.154687 45.482813 55.154687 \nz\n\" style=\"fill: #ffffff; opacity: 0.8; stroke: #cccccc; stroke-linejoin: miter\"/>\n    </g>\n    <g id=\"line2d_15\">\n     <path d=\"M 47.482813 30.896875 \nL 57.482813 30.896875 \nL 67.482813 30.896875 \n\" style=\"fill: none; stroke: #800080; stroke-linecap: square\"/>\n    </g>\n    <g id=\"text_14\">\n     <!-- Наш шинус -->\n     <g transform=\"translate(75.482813 34.396875) scale(0.1 -0.1)\">\n      <defs>\n       <path id=\"DejaVuSans-41d\" d=\"M 628 4666 \nL 1259 4666 \nL 1259 2753 \nL 3553 2753 \nL 3553 4666 \nL 4184 4666 \nL 4184 0 \nL 3553 0 \nL 3553 2222 \nL 1259 2222 \nL 1259 0 \nL 628 0 \nL 628 4666 \nz\n\" transform=\"scale(0.015625)\"/>\n       <path id=\"DejaVuSans-430\" d=\"M 2194 1759 \nQ 1497 1759 1228 1600 \nQ 959 1441 959 1056 \nQ 959 750 1161 570 \nQ 1363 391 1709 391 \nQ 2188 391 2477 730 \nQ 2766 1069 2766 1631 \nL 2766 1759 \nL 2194 1759 \nz\nM 3341 1997 \nL 3341 0 \nL 2766 0 \nL 2766 531 \nQ 2569 213 2275 61 \nQ 1981 -91 1556 -91 \nQ 1019 -91 701 211 \nQ 384 513 384 1019 \nQ 384 1609 779 1909 \nQ 1175 2209 1959 2209 \nL 2766 2209 \nL 2766 2266 \nQ 2766 2663 2505 2880 \nQ 2244 3097 1772 3097 \nQ 1472 3097 1187 3025 \nQ 903 2953 641 2809 \nL 641 3341 \nQ 956 3463 1253 3523 \nQ 1550 3584 1831 3584 \nQ 2591 3584 2966 3190 \nQ 3341 2797 3341 1997 \nz\n\" transform=\"scale(0.015625)\"/>\n       <path id=\"DejaVuSans-448\" d=\"M 3216 459 \nL 4697 459 \nL 4697 3500 \nL 5275 3500 \nL 5275 0 \nL 581 0 \nL 581 3500 \nL 1159 3500 \nL 1159 459 \nL 2638 459 \nL 2638 3500 \nL 3216 3500 \nL 3216 459 \nz\n\" transform=\"scale(0.015625)\"/>\n       <path id=\"DejaVuSans-20\" transform=\"scale(0.015625)\"/>\n       <path id=\"DejaVuSans-438\" d=\"M 3578 3500 \nL 3578 0 \nL 3006 0 \nL 3006 2809 \nL 1319 0 \nL 581 0 \nL 581 3500 \nL 1153 3500 \nL 1153 697 \nL 2838 3500 \nL 3578 3500 \nz\n\" transform=\"scale(0.015625)\"/>\n       <path id=\"DejaVuSans-43d\" d=\"M 581 3500 \nL 1159 3500 \nL 1159 2072 \nL 3025 2072 \nL 3025 3500 \nL 3603 3500 \nL 3603 0 \nL 3025 0 \nL 3025 1613 \nL 1159 1613 \nL 1159 0 \nL 581 0 \nL 581 3500 \nz\n\" transform=\"scale(0.015625)\"/>\n       <path id=\"DejaVuSans-443\" d=\"M 2059 -325 \nQ 1816 -950 1584 -1140 \nQ 1353 -1331 966 -1331 \nL 506 -1331 \nL 506 -850 \nL 844 -850 \nQ 1081 -850 1212 -737 \nQ 1344 -625 1503 -206 \nL 1606 56 \nL 191 3500 \nL 800 3500 \nL 1894 763 \nL 2988 3500 \nL 3597 3500 \nL 2059 -325 \nz\n\" transform=\"scale(0.015625)\"/>\n       <path id=\"DejaVuSans-441\" d=\"M 3122 3366 \nL 3122 2828 \nQ 2878 2963 2633 3030 \nQ 2388 3097 2138 3097 \nQ 1578 3097 1268 2742 \nQ 959 2388 959 1747 \nQ 959 1106 1268 751 \nQ 1578 397 2138 397 \nQ 2388 397 2633 464 \nQ 2878 531 3122 666 \nL 3122 134 \nQ 2881 22 2623 -34 \nQ 2366 -91 2075 -91 \nQ 1284 -91 818 406 \nQ 353 903 353 1747 \nQ 353 2603 823 3093 \nQ 1294 3584 2113 3584 \nQ 2378 3584 2631 3529 \nQ 2884 3475 3122 3366 \nz\n\" transform=\"scale(0.015625)\"/>\n      </defs>\n      <use xlink:href=\"#DejaVuSans-41d\"/>\n      <use xlink:href=\"#DejaVuSans-430\" x=\"75.195312\"/>\n      <use xlink:href=\"#DejaVuSans-448\" x=\"136.474609\"/>\n      <use xlink:href=\"#DejaVuSans-20\" x=\"227.978516\"/>\n      <use xlink:href=\"#DejaVuSans-448\" x=\"259.765625\"/>\n      <use xlink:href=\"#DejaVuSans-438\" x=\"351.269531\"/>\n      <use xlink:href=\"#DejaVuSans-43d\" x=\"416.259766\"/>\n      <use xlink:href=\"#DejaVuSans-443\" x=\"481.640625\"/>\n      <use xlink:href=\"#DejaVuSans-441\" x=\"540.820312\"/>\n     </g>\n    </g>\n    <g id=\"line2d_16\">\n     <path d=\"M 47.482813 45.575 \nL 57.482813 45.575 \nL 67.482813 45.575 \n\" style=\"fill: none; stroke: #ff0000; stroke-linecap: square\"/>\n    </g>\n    <g id=\"text_15\">\n     <!-- Истинный шинус -->\n     <g transform=\"translate(75.482813 49.075) scale(0.1 -0.1)\">\n      <defs>\n       <path id=\"DejaVuSans-418\" d=\"M 4159 4666 \nL 4159 0 \nL 3547 0 \nL 3547 3903 \nL 1478 0 \nL 628 0 \nL 628 4666 \nL 1241 4666 \nL 1241 763 \nL 3309 4666 \nL 4159 4666 \nz\n\" transform=\"scale(0.015625)\"/>\n       <path id=\"DejaVuSans-442\" d=\"M 188 3500 \nL 3541 3500 \nL 3541 3041 \nL 2147 3041 \nL 2147 0 \nL 1581 0 \nL 1581 3041 \nL 188 3041 \nL 188 3500 \nz\n\" transform=\"scale(0.015625)\"/>\n       <path id=\"DejaVuSans-44b\" d=\"M 3907 3500 \nL 4482 3500 \nL 4482 0 \nL 3907 0 \nL 3907 3500 \nz\nM 4195 3584 \nL 4195 3584 \nz\nM 2781 1038 \nQ 2781 1319 2576 1466 \nQ 2372 1613 1978 1613 \nL 1159 1613 \nL 1159 459 \nL 1978 459 \nQ 2372 459 2576 607 \nQ 2781 756 2781 1038 \nz\nM 581 3500 \nL 1159 3500 \nL 1159 2072 \nL 2003 2072 \nQ 2672 2072 3033 1817 \nQ 3394 1563 3394 1038 \nQ 3394 513 3033 256 \nQ 2672 0 2003 0 \nL 581 0 \nL 581 3500 \nz\n\" transform=\"scale(0.015625)\"/>\n       <path id=\"DejaVuSans-439\" d=\"M 3578 3500 \nL 3578 0 \nL 3006 0 \nL 3006 2809 \nL 1319 0 \nL 581 0 \nL 581 3500 \nL 1153 3500 \nL 1153 697 \nL 2838 3500 \nL 3578 3500 \nz\nM 1102 4833 \nL 1471 4833 \nQ 1505 4599 1656 4481 \nQ 1808 4364 2080 4364 \nQ 2349 4364 2499 4480 \nQ 2649 4596 2689 4833 \nL 3058 4833 \nQ 3027 4386 2780 4161 \nQ 2533 3936 2080 3936 \nQ 1627 3936 1380 4161 \nQ 1133 4386 1102 4833 \nz\n\" transform=\"scale(0.015625)\"/>\n      </defs>\n      <use xlink:href=\"#DejaVuSans-418\"/>\n      <use xlink:href=\"#DejaVuSans-441\" x=\"74.804688\"/>\n      <use xlink:href=\"#DejaVuSans-442\" x=\"129.785156\"/>\n      <use xlink:href=\"#DejaVuSans-438\" x=\"188.037109\"/>\n      <use xlink:href=\"#DejaVuSans-43d\" x=\"253.027344\"/>\n      <use xlink:href=\"#DejaVuSans-43d\" x=\"318.408203\"/>\n      <use xlink:href=\"#DejaVuSans-44b\" x=\"383.789062\"/>\n      <use xlink:href=\"#DejaVuSans-439\" x=\"462.744141\"/>\n      <use xlink:href=\"#DejaVuSans-20\" x=\"527.734375\"/>\n      <use xlink:href=\"#DejaVuSans-448\" x=\"559.521484\"/>\n      <use xlink:href=\"#DejaVuSans-438\" x=\"651.025391\"/>\n      <use xlink:href=\"#DejaVuSans-43d\" x=\"716.015625\"/>\n      <use xlink:href=\"#DejaVuSans-443\" x=\"781.396484\"/>\n      <use xlink:href=\"#DejaVuSans-441\" x=\"840.576172\"/>\n     </g>\n    </g>\n   </g>\n  </g>\n </g>\n <defs>\n  <clipPath id=\"p6d08433d80\">\n   <rect x=\"38.482813\" y=\"17.798437\" width=\"357.12\" height=\"266.112\"/>\n  </clipPath>\n </defs>\n</svg>\n",
      "text/plain": [
       "<Figure size 640x480 with 1 Axes>"
      ]
     },
     "metadata": {},
     "output_type": "display_data"
    }
   ],
   "source": [
    "from cProfile import label\n",
    "import matplotlib.pyplot as plt\n",
    "%config InlineBackend.figure_formats = ['svg',  'pdf']\n",
    "%matplotlib inline\n",
    "\n",
    "\n",
    "import matplotlib.pyplot as plt\n",
    "import numpy as np\n",
    "\n",
    "vs = np.vectorize(my_sh)\n",
    "print(my_sh, vs)\n",
    "\n",
    "angles = np.r_[-33:33:0.01]\n",
    "plt.plot(angles, np.sinh(angles), linewidth=1.0, color='purple', label='Наш шинус')\n",
    "plt.plot(angles, vs(angles), linewidth=1.0, color='red', label='Истинный шинус')\n",
    "plt.legend()\n",
    "plt.show()\n"
   ]
  },
  {
   "cell_type": "code",
   "execution_count": null,
   "id": "ff58a4d1",
   "metadata": {},
   "outputs": [],
   "source": []
  }
 ],
 "metadata": {
  "kernelspec": {
   "display_name": "Python 3.10.7 64-bit",
   "language": "python",
   "name": "python3"
  },
  "language_info": {
   "codemirror_mode": {
    "name": "ipython",
    "version": 3
   },
   "file_extension": ".py",
   "mimetype": "text/x-python",
   "name": "python",
   "nbconvert_exporter": "python",
   "pygments_lexer": "ipython3",
   "version": "3.10.7"
  },
  "vscode": {
   "interpreter": {
    "hash": "aee8b7b246df8f9039afb4144a1f6fd8d2ca17a180786b69acc140d282b71a49"
   }
  }
 },
 "nbformat": 4,
 "nbformat_minor": 5
}
