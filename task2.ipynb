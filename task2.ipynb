{
 "cells": [
  {
   "cell_type": "markdown",
   "id": "afaed945",
   "metadata": {},
   "source": [
    "$ \\Large \\textbf{Разложение гиперболического синуса в ряд тейлора} $"
   ]
  },
  {
   "cell_type": "markdown",
   "id": "f0b3e486",
   "metadata": {},
   "source": [
    "Для небольших x шинус приближенно равен"
   ]
  },
  {
   "cell_type": "markdown",
   "id": "a225a967-8cc7-498f-b179-495184f6458c",
   "metadata": {},
   "source": [
    "$$ sh(x) = \\frac{1}{1!}x^1 + \\frac{1}{3!}x^3 + \\frac{1}{5!}x^5 + ... + R(x) = \\sum_{n = 0}^{\\inf}\\frac{1}{(2n+1)!}x^{2n+1} + R(x)$$ \n",
    "\n",
    "причем $ R(x) \\xrightarrow[n \\rightarrow \\infty]{} 0 $"
   ]
  },
  {
   "cell_type": "markdown",
   "id": "5f2c7db7",
   "metadata": {},
   "source": [
    "Это частичная сумма ряда Тейлора:\n",
    "$$ f(x) = f(a)+\\sum_{k=1}^\\infty {f^{(k)} (a) \\over k!} (x - a)^k. $$"
   ]
  },
  {
   "cell_type": "code",
   "execution_count": 2,
   "id": "728ee55e",
   "metadata": {},
   "outputs": [
    {
     "name": "stdout",
     "output_type": "stream",
     "text": [
      "Help on built-in function sinh in module math:\n",
      "\n",
      "sinh(x, /)\n",
      "    Return the hyperbolic sine of x.\n",
      "\n",
      "Help on function my_sh in module __main__:\n",
      "\n",
      "my_sh(arg)\n",
      "    Функция, считающая гиперболический синус в\n",
      "    окрестности нуля\n",
      "\n",
      "0.3045202934471426\n",
      "0.30452029344714254\n"
     ]
    }
   ],
   "source": [
    "import math\n",
    "\n",
    "ITERATIONS = 15\n",
    "\n",
    "\n",
    "def my_sh(arg):\n",
    "    \"\"\"\n",
    "    Функция, считающая гиперболический синус в\n",
    "    окрестности нуля\n",
    "    \"\"\"\n",
    "    x_power = arg\n",
    "    multiplier = 1\n",
    "    particial_sum = arg\n",
    "    for i in range(1, ITERATIONS):\n",
    "        x_power *= arg ** 2\n",
    "        multiplier = multiplier / (2 * i) / (2 * i + 1)\n",
    "        particial_sum += x_power * multiplier\n",
    "\n",
    "    return particial_sum\n",
    "\n",
    "\n",
    "help(math.sinh)\n",
    "help(my_sh)\n",
    "\n",
    "print(math.sinh(0.3))\n",
    "print(my_sh(0.3))\n"
   ]
  },
  {
   "cell_type": "markdown",
   "id": "801fd2d7",
   "metadata": {},
   "source": [
    "Как видно, разложение функции в ряд Тейлора $ \\text{--} $ очень мощная штука, точность подсчитывания шинуса составляет $ 10^{-15} $ всего для 15 членов! "
   ]
  },
  {
   "cell_type": "markdown",
   "id": "9dcae926",
   "metadata": {},
   "source": [
    "Проведем проверку на $ \\text{\\textbf{комплексность}} $ нашего шинуса"
   ]
  },
  {
   "cell_type": "code",
   "execution_count": 3,
   "id": "edb6e158",
   "metadata": {},
   "outputs": [
    {
     "name": "stdout",
     "output_type": "stream",
     "text": [
      "\"Угол\", на котором шинус достигает пяти: (2.3124383412727525+0j)\n",
      "Достигает ли пяти фейк-шинус? (5+0j)\n",
      "А библиотечный? (4.999999999999999+0j)\n"
     ]
    }
   ],
   "source": [
    "import cmath\n",
    "\n",
    "complex_angle = cmath.asinh(5)\n",
    "print('\"Угол\", на котором шинус достигает пяти:', complex_angle)\n",
    "\n",
    "print(\"Достигает ли пяти фейк-шинус?\", my_sh(complex_angle))\n",
    "print(\"А библиотечный?\", cmath.sinh(complex_angle))\n"
   ]
  },
  {
   "cell_type": "markdown",
   "id": "7026ebe4",
   "metadata": {},
   "source": [
    "Следующая проверка $ \\text{-- \\textbf{графическая}} $ "
   ]
  },
  {
   "cell_type": "code",
   "execution_count": 5,
   "id": "723dd9b7",
   "metadata": {},
   "outputs": [
    {
     "name": "stdout",
     "output_type": "stream",
     "text": [
      "<function my_sh at 0x1249a1ab0> <numpy.vectorize object at 0x124b1dc60>\n"
     ]
    },
    {
     "data": {
      "application/pdf": "[encoded data removed]",
      "image/svg+xml": "<?xml version=\"1.0\" encoding=\"utf-8\" standalone=\"no\"?>\n<!DOCTYPE svg PUBLIC \"-//W3C//DTD SVG 1.1//EN\"\n  \"http://www.w3.org/Graphics/SVG/1.1/DTD/svg11.dtd\">\n<svg xmlns:xlink=\"http://www.w3.org/1999/xlink\" width=\"393.262187pt\" height=\"307.788562pt\" viewBox=\"0 0 393.262187 307.788562\" xmlns=\"http://www.w3.org/2000/svg\" version=\"1.1\">\n <metadata>\n  <rdf:RDF xmlns:dc=\"http://purl.org/dc/elements/1.1/\" xmlns:cc=\"http://creativecommons.org/ns#\" xmlns:rdf=\"http://www.w3.org/1999/02/22-rdf-syntax-ns#\">\n   <cc:Work>\n    <dc:type rdf:resource=\"http://purl.org/dc/dcmitype/StillImage\"/>\n    <dc:date>2022-10-18T21:32:15.852296</dc:date>\n    <dc:format>image/svg+xml</dc:format>\n    <dc:creator>\n     <cc:Agent>\n      <dc:title>Matplotlib v3.6.0, https://matplotlib.org/</dc:title>\n     </cc:Agent>\n    </dc:creator>\n   </cc:Work>\n  </rdf:RDF>\n </metadata>\n <defs>\n  <style type=\"text/css\">*{stroke-linejoin: round; stroke-linecap: butt}</style>\n </defs>\n <g id=\"figure_1\">\n  <g id=\"patch_1\">\n   <path d=\"M 0 307.788562 \nL 393.262187 307.788562 \nL 393.262187 0 \nL 0 0 \nz\n\" style=\"fill: #ffffff\"/>\n  </g>\n  <g id=\"axes_1\">\n   <g id=\"patch_2\">\n    <path d=\"M 28.942188 283.910437 \nL 386.062188 283.910437 \nL 386.062188 17.798437 \nL 28.942188 17.798437 \nz\n\" style=\"fill: #ffffff\"/>\n   </g>\n   <g id=\"matplotlib.axis_1\">\n    <g id=\"xtick_1\">\n     <g id=\"line2d_1\">\n      <defs>\n       <path id=\"m80958e7620\" d=\"M 0 0 \nL 0 3.5 \n\" style=\"stroke: #000000; stroke-width: 0.8\"/>\n      </defs>\n      <g>\n       <use xlink:href=\"#m80958e7620\" x=\"87.267558\" y=\"283.910437\" style=\"stroke: #000000; stroke-width: 0.8\"/>\n      </g>\n     </g>\n     <g id=\"text_1\">\n      <!-- −20 -->\n      <g transform=\"translate(76.715214 298.508875) scale(0.1 -0.1)\">\n       <defs>\n        <path id=\"DejaVuSans-2212\" d=\"M 678 2272 \nL 4684 2272 \nL 4684 1741 \nL 678 1741 \nL 678 2272 \nz\n\" transform=\"scale(0.015625)\"/>\n        <path id=\"DejaVuSans-32\" d=\"M 1228 531 \nL 3431 531 \nL 3431 0 \nL 469 0 \nL 469 531 \nQ 828 903 1448 1529 \nQ 2069 2156 2228 2338 \nQ 2531 2678 2651 2914 \nQ 2772 3150 2772 3378 \nQ 2772 3750 2511 3984 \nQ 2250 4219 1831 4219 \nQ 1534 4219 1204 4116 \nQ 875 4013 500 3803 \nL 500 4441 \nQ 881 4594 1212 4672 \nQ 1544 4750 1819 4750 \nQ 2544 4750 2975 4387 \nQ 3406 4025 3406 3419 \nQ 3406 3131 3298 2873 \nQ 3191 2616 2906 2266 \nQ 2828 2175 2409 1742 \nQ 1991 1309 1228 531 \nz\n\" transform=\"scale(0.015625)\"/>\n        <path id=\"DejaVuSans-30\" d=\"M 2034 4250 \nQ 1547 4250 1301 3770 \nQ 1056 3291 1056 2328 \nQ 1056 1369 1301 889 \nQ 1547 409 2034 409 \nQ 2525 409 2770 889 \nQ 3016 1369 3016 2328 \nQ 3016 3291 2770 3770 \nQ 2525 4250 2034 4250 \nz\nM 2034 4750 \nQ 2819 4750 3233 4129 \nQ 3647 3509 3647 2328 \nQ 3647 1150 3233 529 \nQ 2819 -91 2034 -91 \nQ 1250 -91 836 529 \nQ 422 1150 422 2328 \nQ 422 3509 836 4129 \nQ 1250 4750 2034 4750 \nz\n\" transform=\"scale(0.015625)\"/>\n       </defs>\n       <use xlink:href=\"#DejaVuSans-2212\"/>\n       <use xlink:href=\"#DejaVuSans-32\" x=\"83.789062\"/>\n       <use xlink:href=\"#DejaVuSans-30\" x=\"147.412109\"/>\n      </g>\n     </g>\n    </g>\n    <g id=\"xtick_2\">\n     <g id=\"line2d_2\">\n      <g>\n       <use xlink:href=\"#m80958e7620\" x=\"147.399906\" y=\"283.910437\" style=\"stroke: #000000; stroke-width: 0.8\"/>\n      </g>\n     </g>\n     <g id=\"text_2\">\n      <!-- −10 -->\n      <g transform=\"translate(136.847562 298.508875) scale(0.1 -0.1)\">\n       <defs>\n        <path id=\"DejaVuSans-31\" d=\"M 794 531 \nL 1825 531 \nL 1825 4091 \nL 703 3866 \nL 703 4441 \nL 1819 4666 \nL 2450 4666 \nL 2450 531 \nL 3481 531 \nL 3481 0 \nL 794 0 \nL 794 531 \nz\n\" transform=\"scale(0.015625)\"/>\n       </defs>\n       <use xlink:href=\"#DejaVuSans-2212\"/>\n       <use xlink:href=\"#DejaVuSans-31\" x=\"83.789062\"/>\n       <use xlink:href=\"#DejaVuSans-30\" x=\"147.412109\"/>\n      </g>\n     </g>\n    </g>\n    <g id=\"xtick_3\">\n     <g id=\"line2d_3\">\n      <g>\n       <use xlink:href=\"#m80958e7620\" x=\"207.532254\" y=\"283.910437\" style=\"stroke: #000000; stroke-width: 0.8\"/>\n      </g>\n     </g>\n     <g id=\"text_3\">\n      <!-- 0 -->\n      <g transform=\"translate(204.351004 298.508875) scale(0.1 -0.1)\">\n       <use xlink:href=\"#DejaVuSans-30\"/>\n      </g>\n     </g>\n    </g>\n    <g id=\"xtick_4\">\n     <g id=\"line2d_4\">\n      <g>\n       <use xlink:href=\"#m80958e7620\" x=\"267.664601\" y=\"283.910437\" style=\"stroke: #000000; stroke-width: 0.8\"/>\n      </g>\n     </g>\n     <g id=\"text_4\">\n      <!-- 10 -->\n      <g transform=\"translate(261.302101 298.508875) scale(0.1 -0.1)\">\n       <use xlink:href=\"#DejaVuSans-31\"/>\n       <use xlink:href=\"#DejaVuSans-30\" x=\"63.623047\"/>\n      </g>\n     </g>\n    </g>\n    <g id=\"xtick_5\">\n     <g id=\"line2d_5\">\n      <g>\n       <use xlink:href=\"#m80958e7620\" x=\"327.796949\" y=\"283.910437\" style=\"stroke: #000000; stroke-width: 0.8\"/>\n      </g>\n     </g>\n     <g id=\"text_5\">\n      <!-- 20 -->\n      <g transform=\"translate(321.434449 298.508875) scale(0.1 -0.1)\">\n       <use xlink:href=\"#DejaVuSans-32\"/>\n       <use xlink:href=\"#DejaVuSans-30\" x=\"63.623047\"/>\n      </g>\n     </g>\n    </g>\n   </g>\n   <g id=\"matplotlib.axis_2\">\n    <g id=\"ytick_1\">\n     <g id=\"line2d_6\">\n      <defs>\n       <path id=\"ma7c5879d73\" d=\"M 0 0 \nL -3.5 0 \n\" style=\"stroke: #000000; stroke-width: 0.8\"/>\n      </defs>\n      <g>\n       <use xlink:href=\"#ma7c5879d73\" x=\"28.942188\" y=\"241.643457\" style=\"stroke: #000000; stroke-width: 0.8\"/>\n      </g>\n     </g>\n     <g id=\"text_6\">\n      <!-- −2 -->\n      <g transform=\"translate(7.2 245.442675) scale(0.1 -0.1)\">\n       <use xlink:href=\"#DejaVuSans-2212\"/>\n       <use xlink:href=\"#DejaVuSans-32\" x=\"83.789062\"/>\n      </g>\n     </g>\n    </g>\n    <g id=\"ytick_2\">\n     <g id=\"line2d_7\">\n      <g>\n       <use xlink:href=\"#ma7c5879d73\" x=\"28.942188\" y=\"195.94655\" style=\"stroke: #000000; stroke-width: 0.8\"/>\n      </g>\n     </g>\n     <g id=\"text_7\">\n      <!-- −1 -->\n      <g transform=\"translate(7.2 199.745768) scale(0.1 -0.1)\">\n       <use xlink:href=\"#DejaVuSans-2212\"/>\n       <use xlink:href=\"#DejaVuSans-31\" x=\"83.789062\"/>\n      </g>\n     </g>\n    </g>\n    <g id=\"ytick_3\">\n     <g id=\"line2d_8\">\n      <g>\n       <use xlink:href=\"#ma7c5879d73\" x=\"28.942188\" y=\"150.249643\" style=\"stroke: #000000; stroke-width: 0.8\"/>\n      </g>\n     </g>\n     <g id=\"text_8\">\n      <!-- 0 -->\n      <g transform=\"translate(15.579688 154.048861) scale(0.1 -0.1)\">\n       <use xlink:href=\"#DejaVuSans-30\"/>\n      </g>\n     </g>\n    </g>\n    <g id=\"ytick_4\">\n     <g id=\"line2d_9\">\n      <g>\n       <use xlink:href=\"#ma7c5879d73\" x=\"28.942188\" y=\"104.552735\" style=\"stroke: #000000; stroke-width: 0.8\"/>\n      </g>\n     </g>\n     <g id=\"text_9\">\n      <!-- 1 -->\n      <g transform=\"translate(15.579688 108.351954) scale(0.1 -0.1)\">\n       <use xlink:href=\"#DejaVuSans-31\"/>\n      </g>\n     </g>\n    </g>\n    <g id=\"ytick_5\">\n     <g id=\"line2d_10\">\n      <g>\n       <use xlink:href=\"#ma7c5879d73\" x=\"28.942188\" y=\"58.855828\" style=\"stroke: #000000; stroke-width: 0.8\"/>\n      </g>\n     </g>\n     <g id=\"text_10\">\n      <!-- 2 -->\n      <g transform=\"translate(15.579688 62.655047) scale(0.1 -0.1)\">\n       <use xlink:href=\"#DejaVuSans-32\"/>\n      </g>\n     </g>\n    </g>\n    <g id=\"text_11\">\n     <!-- 1e11 -->\n     <g transform=\"translate(28.942188 14.798437) scale(0.1 -0.1)\">\n      <defs>\n       <path id=\"DejaVuSans-65\" d=\"M 3597 1894 \nL 3597 1613 \nL 953 1613 \nQ 991 1019 1311 708 \nQ 1631 397 2203 397 \nQ 2534 397 2845 478 \nQ 3156 559 3463 722 \nL 3463 178 \nQ 3153 47 2828 -22 \nQ 2503 -91 2169 -91 \nQ 1331 -91 842 396 \nQ 353 884 353 1716 \nQ 353 2575 817 3079 \nQ 1281 3584 2069 3584 \nQ 2775 3584 3186 3129 \nQ 3597 2675 3597 1894 \nz\nM 3022 2063 \nQ 3016 2534 2758 2815 \nQ 2500 3097 2075 3097 \nQ 1594 3097 1305 2825 \nQ 1016 2553 972 2059 \nL 3022 2063 \nz\n\" transform=\"scale(0.015625)\"/>\n      </defs>\n      <use xlink:href=\"#DejaVuSans-31\"/>\n      <use xlink:href=\"#DejaVuSans-65\" x=\"63.623047\"/>\n      <use xlink:href=\"#DejaVuSans-31\" x=\"125.146484\"/>\n      <use xlink:href=\"#DejaVuSans-31\" x=\"188.769531\"/>\n     </g>\n    </g>\n   </g>\n   <g id=\"line2d_11\">\n    <path d=\"M 45.174915 271.814437 \nL 46.377562 249.778479 \nL 47.580209 231.736961 \nL 48.782856 216.965817 \nL 49.985503 204.872226 \nL 51.18815 194.970831 \nL 52.390797 186.864255 \nL 53.593443 180.227152 \nL 54.79609 174.793151 \nL 55.998737 170.344168 \nL 57.201384 166.701648 \nL 58.464164 163.585379 \nL 59.726943 161.059381 \nL 60.989722 159.011846 \nL 62.312634 157.281476 \nL 63.695678 155.83667 \nL 65.138854 154.644554 \nL 66.702295 153.638346 \nL 68.446133 152.785286 \nL 70.430501 152.072577 \nL 72.71553 151.496277 \nL 75.481618 151.036622 \nL 79.029427 150.685887 \nL 83.900147 150.443709 \nL 91.717352 150.302532 \nL 110.11785 150.252122 \nL 331.284625 150.051655 \nL 336.696537 149.762672 \nL 340.36461 149.353408 \nL 343.130698 148.82994 \nL 345.415727 148.173633 \nL 347.339962 147.390713 \nL 349.023668 146.466907 \nL 350.526977 145.392514 \nL 351.910021 144.136461 \nL 353.232932 142.632149 \nL 354.495712 140.852108 \nL 355.698359 138.771467 \nL 356.901005 136.230168 \nL 358.04352 133.296598 \nL 359.186035 129.749181 \nL 360.328549 125.459467 \nL 361.471064 120.272133 \nL 362.613578 113.999351 \nL 363.756093 106.413993 \nL 364.898608 97.2414 \nL 366.041122 86.149447 \nL 367.183637 72.736507 \nL 368.326152 56.516915 \nL 369.468666 36.903379 \nL 369.82946 29.894437 \nL 369.82946 29.894437 \n\" clip-path=\"url(#pd0f96a54ed)\" style=\"fill: none; stroke: #800080; stroke-width: 2.5; stroke-linecap: square\"/>\n   </g>\n   <g id=\"line2d_12\">\n    <path d=\"M 45.174915 238.540659 \nL 46.437694 223.161672 \nL 47.700473 210.417846 \nL 48.963253 199.865893 \nL 50.226032 191.135586 \nL 51.488811 183.917979 \nL 52.751591 177.955493 \nL 54.01437 173.03356 \nL 55.277149 168.973596 \nL 56.539928 165.627092 \nL 57.86284 162.7523 \nL 59.185752 160.407998 \nL 60.508663 158.497756 \nL 61.891707 156.879004 \nL 63.334884 155.523686 \nL 64.898325 154.362859 \nL 66.582031 153.393875 \nL 68.446133 152.58248 \nL 70.550766 151.91295 \nL 73.016192 151.36695 \nL 76.022809 150.935915 \nL 79.931412 150.612666 \nL 85.463588 150.396282 \nL 94.904366 150.280545 \nL 122.745643 150.249946 \nL 328.398273 150.129313 \nL 335.193228 149.883036 \nL 339.402492 149.521948 \nL 342.529374 149.041977 \nL 345.054933 148.434945 \nL 347.159565 147.705345 \nL 348.963536 146.854254 \nL 350.587109 145.851351 \nL 352.090418 144.664866 \nL 353.473462 143.29741 \nL 354.796373 141.682722 \nL 356.059153 139.799126 \nL 357.321932 137.509163 \nL 358.524579 134.872193 \nL 359.727226 131.700158 \nL 360.929873 127.886981 \nL 362.13252 123.306107 \nL 363.335167 117.806671 \nL 364.537814 111.208961 \nL 365.740461 103.29908 \nL 366.943108 93.822634 \nL 368.145754 82.47731 \nL 369.348401 68.904131 \nL 369.82946 62.758167 \nL 369.82946 62.758167 \n\" clip-path=\"url(#pd0f96a54ed)\" style=\"fill: none; stroke: #ff0000; stroke-linecap: square\"/>\n   </g>\n   <g id=\"patch_3\">\n    <path d=\"M 28.942188 283.910437 \nL 28.942188 17.798437 \n\" style=\"fill: none; stroke: #000000; stroke-width: 0.8; stroke-linejoin: miter; stroke-linecap: square\"/>\n   </g>\n   <g id=\"patch_4\">\n    <path d=\"M 386.062188 283.910437 \nL 386.062188 17.798437 \n\" style=\"fill: none; stroke: #000000; stroke-width: 0.8; stroke-linejoin: miter; stroke-linecap: square\"/>\n   </g>\n   <g id=\"patch_5\">\n    <path d=\"M 28.942187 283.910437 \nL 386.062188 283.910437 \n\" style=\"fill: none; stroke: #000000; stroke-width: 0.8; stroke-linejoin: miter; stroke-linecap: square\"/>\n   </g>\n   <g id=\"patch_6\">\n    <path d=\"M 28.942187 17.798437 \nL 386.062188 17.798437 \n\" style=\"fill: none; stroke: #000000; stroke-width: 0.8; stroke-linejoin: miter; stroke-linecap: square\"/>\n   </g>\n   <g id=\"legend_1\">\n    <g id=\"patch_7\">\n     <path d=\"M 35.942188 55.154687 \nL 157.495313 55.154687 \nQ 159.495313 55.154687 159.495313 53.154687 \nL 159.495313 24.798437 \nQ 159.495313 22.798437 157.495313 22.798437 \nL 35.942188 22.798437 \nQ 33.942188 22.798437 33.942188 24.798437 \nL 33.942188 53.154687 \nQ 33.942188 55.154687 35.942188 55.154687 \nz\n\" style=\"fill: #ffffff; opacity: 0.8; stroke: #cccccc; stroke-linejoin: miter\"/>\n    </g>\n    <g id=\"line2d_13\">\n     <path d=\"M 37.942188 30.896875 \nL 47.942188 30.896875 \nL 57.942188 30.896875 \n\" style=\"fill: none; stroke: #800080; stroke-width: 2.5; stroke-linecap: square\"/>\n    </g>\n    <g id=\"text_12\">\n     <!-- Наш шинус -->\n     <g transform=\"translate(65.942188 34.396875) scale(0.1 -0.1)\">\n      <defs>\n       <path id=\"DejaVuSans-41d\" d=\"M 628 4666 \nL 1259 4666 \nL 1259 2753 \nL 3553 2753 \nL 3553 4666 \nL 4184 4666 \nL 4184 0 \nL 3553 0 \nL 3553 2222 \nL 1259 2222 \nL 1259 0 \nL 628 0 \nL 628 4666 \nz\n\" transform=\"scale(0.015625)\"/>\n       <path id=\"DejaVuSans-430\" d=\"M 2194 1759 \nQ 1497 1759 1228 1600 \nQ 959 1441 959 1056 \nQ 959 750 1161 570 \nQ 1363 391 1709 391 \nQ 2188 391 2477 730 \nQ 2766 1069 2766 1631 \nL 2766 1759 \nL 2194 1759 \nz\nM 3341 1997 \nL 3341 0 \nL 2766 0 \nL 2766 531 \nQ 2569 213 2275 61 \nQ 1981 -91 1556 -91 \nQ 1019 -91 701 211 \nQ 384 513 384 1019 \nQ 384 1609 779 1909 \nQ 1175 2209 1959 2209 \nL 2766 2209 \nL 2766 2266 \nQ 2766 2663 2505 2880 \nQ 2244 3097 1772 3097 \nQ 1472 3097 1187 3025 \nQ 903 2953 641 2809 \nL 641 3341 \nQ 956 3463 1253 3523 \nQ 1550 3584 1831 3584 \nQ 2591 3584 2966 3190 \nQ 3341 2797 3341 1997 \nz\n\" transform=\"scale(0.015625)\"/>\n       <path id=\"DejaVuSans-448\" d=\"M 3216 459 \nL 4697 459 \nL 4697 3500 \nL 5275 3500 \nL 5275 0 \nL 581 0 \nL 581 3500 \nL 1159 3500 \nL 1159 459 \nL 2638 459 \nL 2638 3500 \nL 3216 3500 \nL 3216 459 \nz\n\" transform=\"scale(0.015625)\"/>\n       <path id=\"DejaVuSans-20\" transform=\"scale(0.015625)\"/>\n       <path id=\"DejaVuSans-438\" d=\"M 3578 3500 \nL 3578 0 \nL 3006 0 \nL 3006 2809 \nL 1319 0 \nL 581 0 \nL 581 3500 \nL 1153 3500 \nL 1153 697 \nL 2838 3500 \nL 3578 3500 \nz\n\" transform=\"scale(0.015625)\"/>\n       <path id=\"DejaVuSans-43d\" d=\"M 581 3500 \nL 1159 3500 \nL 1159 2072 \nL 3025 2072 \nL 3025 3500 \nL 3603 3500 \nL 3603 0 \nL 3025 0 \nL 3025 1613 \nL 1159 1613 \nL 1159 0 \nL 581 0 \nL 581 3500 \nz\n\" transform=\"scale(0.015625)\"/>\n       <path id=\"DejaVuSans-443\" d=\"M 2059 -325 \nQ 1816 -950 1584 -1140 \nQ 1353 -1331 966 -1331 \nL 506 -1331 \nL 506 -850 \nL 844 -850 \nQ 1081 -850 1212 -737 \nQ 1344 -625 1503 -206 \nL 1606 56 \nL 191 3500 \nL 800 3500 \nL 1894 763 \nL 2988 3500 \nL 3597 3500 \nL 2059 -325 \nz\n\" transform=\"scale(0.015625)\"/>\n       <path id=\"DejaVuSans-441\" d=\"M 3122 3366 \nL 3122 2828 \nQ 2878 2963 2633 3030 \nQ 2388 3097 2138 3097 \nQ 1578 3097 1268 2742 \nQ 959 2388 959 1747 \nQ 959 1106 1268 751 \nQ 1578 397 2138 397 \nQ 2388 397 2633 464 \nQ 2878 531 3122 666 \nL 3122 134 \nQ 2881 22 2623 -34 \nQ 2366 -91 2075 -91 \nQ 1284 -91 818 406 \nQ 353 903 353 1747 \nQ 353 2603 823 3093 \nQ 1294 3584 2113 3584 \nQ 2378 3584 2631 3529 \nQ 2884 3475 3122 3366 \nz\n\" transform=\"scale(0.015625)\"/>\n      </defs>\n      <use xlink:href=\"#DejaVuSans-41d\"/>\n      <use xlink:href=\"#DejaVuSans-430\" x=\"75.195312\"/>\n      <use xlink:href=\"#DejaVuSans-448\" x=\"136.474609\"/>\n      <use xlink:href=\"#DejaVuSans-20\" x=\"227.978516\"/>\n      <use xlink:href=\"#DejaVuSans-448\" x=\"259.765625\"/>\n      <use xlink:href=\"#DejaVuSans-438\" x=\"351.269531\"/>\n      <use xlink:href=\"#DejaVuSans-43d\" x=\"416.259766\"/>\n      <use xlink:href=\"#DejaVuSans-443\" x=\"481.640625\"/>\n      <use xlink:href=\"#DejaVuSans-441\" x=\"540.820312\"/>\n     </g>\n    </g>\n    <g id=\"line2d_14\">\n     <path d=\"M 37.942188 45.575 \nL 47.942188 45.575 \nL 57.942188 45.575 \n\" style=\"fill: none; stroke: #ff0000; stroke-linecap: square\"/>\n    </g>\n    <g id=\"text_13\">\n     <!-- Истинный шинус -->\n     <g transform=\"translate(65.942188 49.075) scale(0.1 -0.1)\">\n      <defs>\n       <path id=\"DejaVuSans-418\" d=\"M 4159 4666 \nL 4159 0 \nL 3547 0 \nL 3547 3903 \nL 1478 0 \nL 628 0 \nL 628 4666 \nL 1241 4666 \nL 1241 763 \nL 3309 4666 \nL 4159 4666 \nz\n\" transform=\"scale(0.015625)\"/>\n       <path id=\"DejaVuSans-442\" d=\"M 188 3500 \nL 3541 3500 \nL 3541 3041 \nL 2147 3041 \nL 2147 0 \nL 1581 0 \nL 1581 3041 \nL 188 3041 \nL 188 3500 \nz\n\" transform=\"scale(0.015625)\"/>\n       <path id=\"DejaVuSans-44b\" d=\"M 3907 3500 \nL 4482 3500 \nL 4482 0 \nL 3907 0 \nL 3907 3500 \nz\nM 4195 3584 \nL 4195 3584 \nz\nM 2781 1038 \nQ 2781 1319 2576 1466 \nQ 2372 1613 1978 1613 \nL 1159 1613 \nL 1159 459 \nL 1978 459 \nQ 2372 459 2576 607 \nQ 2781 756 2781 1038 \nz\nM 581 3500 \nL 1159 3500 \nL 1159 2072 \nL 2003 2072 \nQ 2672 2072 3033 1817 \nQ 3394 1563 3394 1038 \nQ 3394 513 3033 256 \nQ 2672 0 2003 0 \nL 581 0 \nL 581 3500 \nz\n\" transform=\"scale(0.015625)\"/>\n       <path id=\"DejaVuSans-439\" d=\"M 3578 3500 \nL 3578 0 \nL 3006 0 \nL 3006 2809 \nL 1319 0 \nL 581 0 \nL 581 3500 \nL 1153 3500 \nL 1153 697 \nL 2838 3500 \nL 3578 3500 \nz\nM 1102 4833 \nL 1471 4833 \nQ 1505 4599 1656 4481 \nQ 1808 4364 2080 4364 \nQ 2349 4364 2499 4480 \nQ 2649 4596 2689 4833 \nL 3058 4833 \nQ 3027 4386 2780 4161 \nQ 2533 3936 2080 3936 \nQ 1627 3936 1380 4161 \nQ 1133 4386 1102 4833 \nz\n\" transform=\"scale(0.015625)\"/>\n      </defs>\n      <use xlink:href=\"#DejaVuSans-418\"/>\n      <use xlink:href=\"#DejaVuSans-441\" x=\"74.804688\"/>\n      <use xlink:href=\"#DejaVuSans-442\" x=\"129.785156\"/>\n      <use xlink:href=\"#DejaVuSans-438\" x=\"188.037109\"/>\n      <use xlink:href=\"#DejaVuSans-43d\" x=\"253.027344\"/>\n      <use xlink:href=\"#DejaVuSans-43d\" x=\"318.408203\"/>\n      <use xlink:href=\"#DejaVuSans-44b\" x=\"383.789062\"/>\n      <use xlink:href=\"#DejaVuSans-439\" x=\"462.744141\"/>\n      <use xlink:href=\"#DejaVuSans-20\" x=\"527.734375\"/>\n      <use xlink:href=\"#DejaVuSans-448\" x=\"559.521484\"/>\n      <use xlink:href=\"#DejaVuSans-438\" x=\"651.025391\"/>\n      <use xlink:href=\"#DejaVuSans-43d\" x=\"716.015625\"/>\n      <use xlink:href=\"#DejaVuSans-443\" x=\"781.396484\"/>\n      <use xlink:href=\"#DejaVuSans-441\" x=\"840.576172\"/>\n     </g>\n    </g>\n   </g>\n  </g>\n </g>\n <defs>\n  <clipPath id=\"pd0f96a54ed\">\n   <rect x=\"28.942188\" y=\"17.798437\" width=\"357.12\" height=\"266.112\"/>\n  </clipPath>\n </defs>\n</svg>\n",
      "text/plain": [
       "<Figure size 640x480 with 1 Axes>"
      ]
     },
     "metadata": {},
     "output_type": "display_data"
    }
   ],
   "source": [
    "from cProfile import label\n",
    "import matplotlib.pyplot as plt\n",
    "%config InlineBackend.figure_formats = ['svg',  'pdf']\n",
    "%matplotlib inline\n",
    "\n",
    "\n",
    "import matplotlib.pyplot as plt\n",
    "import numpy as np\n",
    "\n",
    "vs = np.vectorize(my_sh)\n",
    "print(my_sh, vs)\n",
    "\n",
    "angles = np.r_[-27:27:0.01]\n",
    "plt.plot(angles, np.sinh(angles), linewidth=2.5, color='purple', label='Наш шинус')\n",
    "plt.plot(angles, vs(angles), linewidth=1.0, color='red', label='Истинный шинус')\n",
    "plt.legend()\n",
    "plt.show()\n"
   ]
  }
 ],
 "metadata": {
  "kernelspec": {
   "display_name": "Python 3.10.7 64-bit",
   "language": "python",
   "name": "python3"
  },
  "language_info": {
   "codemirror_mode": {
    "name": "ipython",
    "version": 3
   },
   "file_extension": ".py",
   "mimetype": "text/x-python",
   "name": "python",
   "nbconvert_exporter": "python",
   "pygments_lexer": "ipython3",
   "version": "3.10.7"
  },
  "vscode": {
   "interpreter": {
    "hash": "aee8b7b246df8f9039afb4144a1f6fd8d2ca17a180786b69acc140d282b71a49"
   }
  }
 },
 "nbformat": 4,
 "nbformat_minor": 5
}
