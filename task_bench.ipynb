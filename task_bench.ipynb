{
  "cells": [
    {
      "cell_type": "markdown",
      "metadata": {
        "id": "h-5CQASu73rs"
      },
      "source": [
        "$$ \\Huge Разные \\ питончики \\ ツ$$"
      ]
    },
    {
      "cell_type": "markdown",
      "metadata": {
        "id": "ahuQIDgJ8BHU"
      },
      "source": [
        "Воспроизводится $ \\textit{следующий бенчмарк} $ (с нумбой ничегошеньки не вышло)"
      ]
    },
    {
      "cell_type": "code",
      "execution_count": 1,
      "metadata": {
        "id": "4W6zvrIl6m1G"
      },
      "outputs": [],
      "source": [
        "from __future__ import annotations\n",
        "from numba import jit, prange\n",
        "import numpy\n",
        "import numpy.random\n",
        "\n",
        "random_m = numpy.matrix(numpy.random.rand(300, 30000))\n",
        "heat_m = numpy.zeros((1, 1))\n",
        "\n",
        "def sum_matrix_nojit(m: numpy.matrix)-> numpy.float:\n",
        "    s = 0.0\n",
        "    d0, d1 = m.shape\n",
        "    for r in range(d0):\n",
        "        for c in range(d1):\n",
        "            s += m[r, c]\n",
        "    return s\n",
        "\n",
        "\n",
        "@jit(nopython=True, fastmath=True)\n",
        "def sum_matrix_jit(m: numpy.matrix)-> numpy.float:\n",
        "    s = 0.0\n",
        "    d0, d1 = m.shape\n",
        "    for r in range(d0):\n",
        "        for c in range(d1):\n",
        "            s += m[r, c]\n",
        "    return s\n",
        "\n",
        "\n",
        "@jit(nopython=True, parallel=True, fastmath=True)\n",
        "def sum_matrix_jit_par(m: numpy.matrix)-> numpy.float:\n",
        "    s = 0.0\n",
        "    d0, d1 = m.shape\n",
        "    for r in prange(d0):\n",
        "        sc = 0.0\n",
        "        for c in range(d1):\n",
        "            sc += m[r, c]\n",
        "        s += sc\n",
        "    return s"
      ]
    },
    {
      "cell_type": "code",
      "execution_count": 2,
      "metadata": {
        "colab": {
          "base_uri": "https://localhost:8080/"
        },
        "id": "_15BZvrA6sGi",
        "outputId": "ec5bf9a7-4943-4a0f-db99-df878e87ad9c"
      },
      "outputs": [
        {
          "name": "stdout",
          "output_type": "stream",
          "text": [
            "7.31 s ± 1 s per loop (mean ± std. dev. of 7 runs, 1 loop each)\n",
            "15.2 ms ± 258 µs per loop (mean ± std. dev. of 7 runs, 100 loops each)\n",
            "10.2 ms ± 4.2 ms per loop (mean ± std. dev. of 7 runs, 100 loops each)\n"
          ]
        }
      ],
      "source": [
        "%timeit sum_matrix_nojit(random_m)\n",
        "\n",
        "sum_matrix_jit(heat_m)  # give it a heat\n",
        "%timeit sum_matrix_jit(random_m)\n",
        "\n",
        "sum_matrix_jit_par(heat_m)  # give it a heat\n",
        "%timeit sum_matrix_jit_par(random_m)"
      ]
    },
    {
      "cell_type": "markdown",
      "metadata": {
        "id": "HQ1ipOTf8Yz-"
      },
      "source": [
        "Легко видеть, что результат **очаровывает** любого смотрящего!"
      ]
    }
  ],
  "metadata": {
    "colab": {
      "provenance": []
    },
    "kernelspec": {
      "display_name": "Python 3.11.1 64-bit",
      "language": "python",
      "name": "python3"
    },
    "language_info": {
      "name": "python",
      "version": "3.11.1"
    },
    "vscode": {
      "interpreter": {
        "hash": "aee8b7b246df8f9039afb4144a1f6fd8d2ca17a180786b69acc140d282b71a49"
      }
    }
  },
  "nbformat": 4,
  "nbformat_minor": 0
}
